{
  "nbformat": 4,
  "nbformat_minor": 0,
  "metadata": {
    "colab": {
      "name": "Kinjal_Kachi_CV_Assignment3.ipynb",
      "provenance": [],
      "collapsed_sections": []
    },
    "kernelspec": {
      "name": "python3",
      "display_name": "Python 3"
    }
  },
  "cells": [
    {
      "cell_type": "code",
      "metadata": {
        "id": "xOfaCj2ikrwQ"
      },
      "source": [
        "import tensorflow as tf\n",
        "import keras\n",
        "from keras import models\n",
        "from keras import layers\n",
        "from keras.utils import to_categorical\n",
        "\n",
        "from sklearn.model_selection import train_test_split\n",
        "import numpy as np\n",
        "\n",
        "from matplotlib import pyplot as plt\n",
        "\n",
        "from google.colab.patches import cv2_imshow"
      ],
      "execution_count": null,
      "outputs": []
    },
    {
      "cell_type": "code",
      "metadata": {
        "id": "ghPNHgPRksWt"
      },
      "source": [
        "# # Load the mnist dataset\n",
        "# Referred to professor's pdf document: http://www.cs.iit.edu/~agam/cs512/share/cnna.p \n",
        "\n",
        "global xval\n",
        "global yval\n",
        "\n",
        "(xtrain, ytrain), (xval, yval) = tf.keras.datasets.mnist.load_data(path=\"mnist.npz\")"
      ],
      "execution_count": null,
      "outputs": []
    },
    {
      "cell_type": "code",
      "metadata": {
        "id": "MJWBkvD-808T",
        "outputId": "d1980b33-1c87-42bd-cbb3-9aa1b3508ac2",
        "colab": {
          "base_uri": "https://localhost:8080/"
        }
      },
      "source": [
        "#1a)\n",
        "#Split the data:\n",
        "#Referred to: https://datascience.stackexchange.com/questions/15135/train-test-validation-set-splitting-in-sklearn\n",
        "# Referred to professor's pdf document: http://www.cs.iit.edu/~agam/cs512/share/cnna.p \n",
        "\n",
        "global x_train\n",
        "global x_test\n",
        "global y_test\n",
        "global y_train \n",
        "\n",
        "x_train, x_test, y_train, y_test = train_test_split(xtrain, ytrain, test_size=0.08333)\n",
        "\n",
        "x_train = x_train.reshape((55000,28,28,1))\n",
        "x_train = x_train.astype('float32') / 255\n",
        "\n",
        "x_test = x_test.reshape((5000,28,28,1))\n",
        "x_test = x_test.astype('float32') / 255\n",
        "\n",
        "xval = xval.reshape((10000,28,28,1))\n",
        "xval = xval.astype('float32') / 255\n",
        "\n",
        "print(\"Training data size: \",x_train.shape[0])\n",
        "print(\"Testing data size: \",x_test.shape[0])\n",
        "print(\"Validation data size: \",xval.shape[0])\n"
      ],
      "execution_count": null,
      "outputs": [
        {
          "output_type": "stream",
          "text": [
            "Training data size:  55000\n",
            "Testing data size:  5000\n",
            "Validation data size:  10000\n"
          ],
          "name": "stdout"
        }
      ]
    },
    {
      "cell_type": "code",
      "metadata": {
        "id": "DrMhwTjV4TMO"
      },
      "source": [
        "#1b)Convert digit labels to odd and even and discard original\n",
        "#Reference to build the code:\n",
        "\n",
        "global target_train\n",
        "global target_test\n",
        "global target_val\n",
        "\n",
        "code = lambda x: 0 if x % 2 == 0 else 1\n",
        "vfunc = np.vectorize(code)\n",
        "\n",
        "target_train = to_categorical(vfunc(y_train))\n",
        "target_test = to_categorical(vfunc(y_test))\n",
        "target_val = to_categorical(vfunc(yval))"
      ],
      "execution_count": null,
      "outputs": []
    },
    {
      "cell_type": "code",
      "metadata": {
        "id": "KILTGOgo_fC0",
        "outputId": "47190be8-7d1d-4b97-88fc-e6105a1093f9",
        "colab": {
          "base_uri": "https://localhost:8080/"
        }
      },
      "source": [
        "#1c)Create a neural network with 2 convolutional layers with pooling, a dropout layer and 2 fully connected layers. \n",
        "#1d) Use appropriate loss function, optimization algo and it's parameters.\n",
        "\n",
        "#We use sigmoid function is because it exists between (0 to 1).\n",
        "\n",
        "cnn = models.Sequential()\n",
        "\n",
        "cnn.add(layers.Conv2D(32,(3,3), activation = 'relu', input_shape = (28,28,1)))\n",
        "cnn.add(layers.MaxPooling2D((2,2)))\n",
        "cnn.add(layers.Conv2D(64,(3,3), activation = 'relu'))\n",
        "cnn.add(layers.MaxPooling2D((2,2)))\n",
        "cnn.add(layers.Dropout(0.3))\n",
        "cnn.add(layers.Conv2D(64,(3,3), activation = 'relu'))\n",
        "\n",
        "cnn.add(layers.Flatten())\n",
        "\n",
        "cnn.add(layers.Dense(64,activation='relu'))\n",
        "cnn.add(layers.Dense(2,activation='sigmoid'))\n",
        "\n",
        "cnn.summary()"
      ],
      "execution_count": null,
      "outputs": [
        {
          "output_type": "stream",
          "text": [
            "Model: \"sequential\"\n",
            "_________________________________________________________________\n",
            "Layer (type)                 Output Shape              Param #   \n",
            "=================================================================\n",
            "conv2d (Conv2D)              (None, 26, 26, 32)        320       \n",
            "_________________________________________________________________\n",
            "max_pooling2d (MaxPooling2D) (None, 13, 13, 32)        0         \n",
            "_________________________________________________________________\n",
            "conv2d_1 (Conv2D)            (None, 11, 11, 64)        18496     \n",
            "_________________________________________________________________\n",
            "max_pooling2d_1 (MaxPooling2 (None, 5, 5, 64)          0         \n",
            "_________________________________________________________________\n",
            "dropout (Dropout)            (None, 5, 5, 64)          0         \n",
            "_________________________________________________________________\n",
            "conv2d_2 (Conv2D)            (None, 3, 3, 64)          36928     \n",
            "_________________________________________________________________\n",
            "flatten (Flatten)            (None, 576)               0         \n",
            "_________________________________________________________________\n",
            "dense (Dense)                (None, 64)                36928     \n",
            "_________________________________________________________________\n",
            "dense_1 (Dense)              (None, 2)                 130       \n",
            "=================================================================\n",
            "Total params: 92,802\n",
            "Trainable params: 92,802\n",
            "Non-trainable params: 0\n",
            "_________________________________________________________________\n"
          ],
          "name": "stdout"
        }
      ]
    },
    {
      "cell_type": "code",
      "metadata": {
        "id": "ank03l6YahJL",
        "outputId": "8f559ecf-0b87-4e5f-c485-52be61fefbe3",
        "colab": {
          "base_uri": "https://localhost:8080/"
        }
      },
      "source": [
        "#Loss function : Stochastic Gradient Descent optimizer and Binary Cross Entropy \n",
        "#Model evaluation metrics: Accuracy\n",
        "cnn.compile(optimizer='sgd',loss=tf.keras.losses.BinaryCrossentropy(),metrics=['accuracy'])\n",
        "model_fit = cnn.fit(x_train,target_train,epochs=5,batch_size=64,validation_data=(xval,target_val))\n",
        "loss, acc = cnn.evaluate(x_test,target_test)\n",
        "print(\"Loss of the model: \",loss)\n",
        "print(\"Accuracy of the model: \",acc)"
      ],
      "execution_count": null,
      "outputs": [
        {
          "output_type": "stream",
          "text": [
            "Epoch 1/5\n",
            "860/860 [==============================] - 51s 59ms/step - loss: 0.5683 - accuracy: 0.7086 - val_loss: 0.3615 - val_accuracy: 0.8353\n",
            "Epoch 2/5\n",
            "860/860 [==============================] - 51s 59ms/step - loss: 0.3054 - accuracy: 0.8726 - val_loss: 0.2106 - val_accuracy: 0.9184\n",
            "Epoch 3/5\n",
            "860/860 [==============================] - 51s 59ms/step - loss: 0.2100 - accuracy: 0.9203 - val_loss: 0.1380 - val_accuracy: 0.9509\n",
            "Epoch 4/5\n",
            "860/860 [==============================] - 51s 59ms/step - loss: 0.1503 - accuracy: 0.9449 - val_loss: 0.0918 - val_accuracy: 0.9700\n",
            "Epoch 5/5\n",
            "860/860 [==============================] - 51s 59ms/step - loss: 0.1194 - accuracy: 0.9561 - val_loss: 0.0791 - val_accuracy: 0.9729\n",
            "157/157 [==============================] - 2s 10ms/step - loss: 0.0835 - accuracy: 0.9730\n",
            "Loss of the model:  0.08350403606891632\n",
            "Accuracy of the model:  0.9729999899864197\n"
          ],
          "name": "stdout"
        }
      ]
    },
    {
      "cell_type": "code",
      "metadata": {
        "id": "KtIxXPx_XbQa",
        "outputId": "9fcf5095-187e-436f-facd-06f0102c1f6a",
        "colab": {
          "base_uri": "https://localhost:8080/",
          "height": 313
        }
      },
      "source": [
        " #1f) Training and validation loss as function of epochs\n",
        "plt.plot(model_fit.history['loss'])\n",
        "plt.plot(model_fit.history['val_loss'])\n",
        "plt.title('Training and validtation loss')\n",
        "plt.ylabel('Loss rate')\n",
        "plt.xlabel('No. of Epochs')\n",
        "plt.legend(['Train data', 'Validation data'])"
      ],
      "execution_count": null,
      "outputs": [
        {
          "output_type": "execute_result",
          "data": {
            "text/plain": [
              "<matplotlib.legend.Legend at 0x7f0bc3fcdcf8>"
            ]
          },
          "metadata": {
            "tags": []
          },
          "execution_count": 12
        },
        {
          "output_type": "display_data",
          "data": {
            "image/png": "[encoded data removed]",
            "text/plain": [
              "<Figure size 432x288 with 1 Axes>"
            ]
          },
          "metadata": {
            "tags": [],
            "needs_background": "light"
          }
        }
      ]
    },
    {
      "cell_type": "code",
      "metadata": {
        "id": "NqLyAAA4h4Sv",
        "outputId": "9db9c799-2dd5-47f1-d8e6-cdf8c7d06eda",
        "colab": {
          "base_uri": "https://localhost:8080/",
          "height": 313
        }
      },
      "source": [
        "plt.plot(model_fit.history['accuracy'])\n",
        "plt.plot(model_fit.history['val_accuracy'])\n",
        "plt.title('Training and validtation Accuracy')\n",
        "plt.ylabel('Accuracy rate')\n",
        "plt.xlabel('No. of Epochs')\n",
        "plt.legend(['Train data', 'Validation data'])"
      ],
      "execution_count": null,
      "outputs": [
        {
          "output_type": "execute_result",
          "data": {
            "text/plain": [
              "<matplotlib.legend.Legend at 0x7f0bc3f459e8>"
            ]
          },
          "metadata": {
            "tags": []
          },
          "execution_count": 13
        },
        {
          "output_type": "display_data",
          "data": {
            "image/png": "[encoded data removed]",
            "text/plain": [
              "<Figure size 432x288 with 1 Axes>"
            ]
          },
          "metadata": {
            "tags": [],
            "needs_background": "light"
          }
        }
      ]
    },
    {
      "cell_type": "code",
      "metadata": {
        "id": "pCKJFc9Qh4Gr",
        "outputId": "207fd784-6879-4dc3-ac7e-8e7516e0e2e6",
        "colab": {
          "base_uri": "https://localhost:8080/"
        }
      },
      "source": [
        "# Increased the number of filters \n",
        "# Increased the kernel size\n",
        "cnn_hypertune = models.Sequential()\n",
        "\n",
        "cnn_hypertune.add(layers.Conv2D(64,(5,5), activation = 'relu', input_shape = (28,28,1)))\n",
        "cnn_hypertune.add(layers.MaxPooling2D((2,2)))\n",
        "cnn_hypertune.add(layers.Conv2D(128,(3,3), activation = 'relu'))\n",
        "cnn_hypertune.add(layers.MaxPooling2D((2,2)))\n",
        "cnn_hypertune.add(layers.Dropout(0.5))\n",
        "\n",
        "cnn_hypertune.add(layers.Flatten())\n",
        "\n",
        "cnn_hypertune.add(layers.Dense(64,activation='relu'))\n",
        "cnn_hypertune.add(layers.Dense(2,activation='sigmoid'))\n",
        "cnn_hypertune.summary()"
      ],
      "execution_count": null,
      "outputs": [
        {
          "output_type": "stream",
          "text": [
            "Model: \"sequential_2\"\n",
            "_________________________________________________________________\n",
            "Layer (type)                 Output Shape              Param #   \n",
            "=================================================================\n",
            "conv2d_5 (Conv2D)            (None, 24, 24, 64)        1664      \n",
            "_________________________________________________________________\n",
            "max_pooling2d_4 (MaxPooling2 (None, 12, 12, 64)        0         \n",
            "_________________________________________________________________\n",
            "conv2d_6 (Conv2D)            (None, 10, 10, 128)       73856     \n",
            "_________________________________________________________________\n",
            "max_pooling2d_5 (MaxPooling2 (None, 5, 5, 128)         0         \n",
            "_________________________________________________________________\n",
            "dropout_2 (Dropout)          (None, 5, 5, 128)         0         \n",
            "_________________________________________________________________\n",
            "flatten_2 (Flatten)          (None, 3200)              0         \n",
            "_________________________________________________________________\n",
            "dense_4 (Dense)              (None, 64)                204864    \n",
            "_________________________________________________________________\n",
            "dense_5 (Dense)              (None, 2)                 130       \n",
            "=================================================================\n",
            "Total params: 280,514\n",
            "Trainable params: 280,514\n",
            "Non-trainable params: 0\n",
            "_________________________________________________________________\n"
          ],
          "name": "stdout"
        }
      ]
    },
    {
      "cell_type": "code",
      "metadata": {
        "id": "A1nO1E5V0QZC",
        "outputId": "7375af23-7a9f-4ff5-ea9a-256ea039fa2a",
        "colab": {
          "base_uri": "https://localhost:8080/"
        }
      },
      "source": [
        "# Optimizer is changed to rmsprop and loss function to categorical crossentropy\n",
        "cnn_hypertune.compile(optimizer='rmsprop', loss='categorical_crossentropy',metrics = [\"accuracy\"])\n",
        "model_fit2 = cnn_hypertune.fit(x_train,target_train,epochs=5,batch_size=64,validation_data=(xval,target_val))"
      ],
      "execution_count": null,
      "outputs": [
        {
          "output_type": "stream",
          "text": [
            "Epoch 1/5\n",
            "860/860 [==============================] - 109s 127ms/step - loss: 0.0976 - accuracy: 0.9633 - val_loss: 0.0274 - val_accuracy: 0.9896\n",
            "Epoch 2/5\n",
            "860/860 [==============================] - 108s 125ms/step - loss: 0.0394 - accuracy: 0.9865 - val_loss: 0.0188 - val_accuracy: 0.9938\n",
            "Epoch 3/5\n",
            "860/860 [==============================] - 109s 126ms/step - loss: 0.0296 - accuracy: 0.9901 - val_loss: 0.0175 - val_accuracy: 0.9942\n",
            "Epoch 4/5\n",
            "860/860 [==============================] - 108s 125ms/step - loss: 0.0267 - accuracy: 0.9913 - val_loss: 0.0317 - val_accuracy: 0.9889\n",
            "Epoch 5/5\n",
            "860/860 [==============================] - 107s 124ms/step - loss: 0.0253 - accuracy: 0.9917 - val_loss: 0.0170 - val_accuracy: 0.9947\n"
          ],
          "name": "stdout"
        }
      ]
    },
    {
      "cell_type": "code",
      "metadata": {
        "id": "Vlbr7b-62on4",
        "outputId": "89918776-def3-42d6-9535-c918fe32e730",
        "colab": {
          "base_uri": "https://localhost:8080/"
        }
      },
      "source": [
        "loss, acc = cnn_hypertune.evaluate(x_test,target_test)\n",
        "print(\"Loss of the model: \",loss)\n",
        "print(\"Accuracy of the model: \",acc)"
      ],
      "execution_count": null,
      "outputs": [
        {
          "output_type": "stream",
          "text": [
            "157/157 [==============================] - 3s 17ms/step - loss: 0.0242 - accuracy: 0.9930\n",
            "Loss of the model:  0.024242404848337173\n",
            "Accuracy of the model:  0.9929999709129333\n"
          ],
          "name": "stdout"
        }
      ]
    },
    {
      "cell_type": "code",
      "metadata": {
        "id": "CGVlIJ9Y3Lp1"
      },
      "source": [
        "#default values:  stride = (1,1),dropout = 0.5,optimizers = 'rmsprop', epoch = 5, kernel_init=\"glorot_uniform\" \n",
        "\n",
        "def test_model_parameters(stride = (1,1),dropout = 0.5,optimizers = 'rmsprop', epoch = 5, kernel_init=\"glorot_uniform\"):\n",
        "  model = models.Sequential()\n",
        "\n",
        "  model.add(layers.Conv2D(64,(5,5),strides= stride, activation = 'relu',kernel_initializer= kernel_init, input_shape = (28,28,1)))\n",
        "  model.add(layers.MaxPooling2D((2,2)))\n",
        "  model.add(layers.Conv2D(64,(3,3),strides= stride, activation = 'relu',kernel_initializer= kernel_init))\n",
        "  model.add(layers.MaxPooling2D((2,2)))\n",
        "  model.add(layers.Dropout(dropout))\n",
        "  model.add(layers.Flatten())\n",
        "\n",
        "  model.add(layers.Dense(64,activation='relu'))\n",
        "  model.add(layers.Dense(2,activation='sigmoid'))\n",
        "\n",
        "  model.compile(optimizer=optimizers, loss='categorical_crossentropy',metrics = [\"accuracy\"])\n",
        "  model_fit3 = model.fit(x_train,target_train,epochs=epoch,batch_size=64,validation_data=(xval,target_val))\n"
      ],
      "execution_count": null,
      "outputs": []
    },
    {
      "cell_type": "code",
      "metadata": {
        "id": "M74lteua40w5",
        "outputId": "ecf9b439-1619-4163-aa62-eca1fe04cf78",
        "colab": {
          "base_uri": "https://localhost:8080/"
        }
      },
      "source": [
        "#Test strides = (1,1), (2,2)\n",
        "test_model_parameters(stride= (1,1))\n",
        "test_model_parameters(stride = (2,2))\n"
      ],
      "execution_count": null,
      "outputs": [
        {
          "output_type": "stream",
          "text": [
            "Epoch 1/5\n",
            "860/860 [==============================] - 72s 84ms/step - loss: 0.1071 - accuracy: 0.9583 - val_loss: 0.0271 - val_accuracy: 0.9898\n",
            "Epoch 2/5\n",
            "860/860 [==============================] - 75s 87ms/step - loss: 0.0416 - accuracy: 0.9861 - val_loss: 0.0270 - val_accuracy: 0.9910\n",
            "Epoch 3/5\n",
            "860/860 [==============================] - 71s 82ms/step - loss: 0.0319 - accuracy: 0.9894 - val_loss: 0.0210 - val_accuracy: 0.9933\n",
            "Epoch 4/5\n",
            "860/860 [==============================] - 71s 82ms/step - loss: 0.0289 - accuracy: 0.9907 - val_loss: 0.0170 - val_accuracy: 0.9952\n",
            "Epoch 5/5\n",
            "860/860 [==============================] - 71s 82ms/step - loss: 0.0267 - accuracy: 0.9916 - val_loss: 0.0175 - val_accuracy: 0.9941\n",
            "<tensorflow.python.keras.engine.sequential.Sequential object at 0x7f0bc3c30b38>\n",
            "<tensorflow.python.keras.callbacks.History object at 0x7f0bc3c5b080>\n",
            "Epoch 1/5\n",
            "860/860 [==============================] - 13s 15ms/step - loss: 0.2192 - accuracy: 0.9115 - val_loss: 0.0803 - val_accuracy: 0.9716\n",
            "Epoch 2/5\n",
            "860/860 [==============================] - 13s 15ms/step - loss: 0.0990 - accuracy: 0.9640 - val_loss: 0.0512 - val_accuracy: 0.9821\n",
            "Epoch 3/5\n",
            "860/860 [==============================] - 13s 15ms/step - loss: 0.0793 - accuracy: 0.9724 - val_loss: 0.1093 - val_accuracy: 0.9601\n",
            "Epoch 4/5\n",
            "860/860 [==============================] - 13s 15ms/step - loss: 0.0703 - accuracy: 0.9769 - val_loss: 0.0460 - val_accuracy: 0.9844\n",
            "Epoch 5/5\n",
            "860/860 [==============================] - 13s 15ms/step - loss: 0.0614 - accuracy: 0.9795 - val_loss: 0.0601 - val_accuracy: 0.9816\n",
            "<tensorflow.python.keras.engine.sequential.Sequential object at 0x7f0bc3e84278>\n",
            "<tensorflow.python.keras.callbacks.History object at 0x7f0bc39c6748>\n"
          ],
          "name": "stdout"
        }
      ]
    },
    {
      "cell_type": "code",
      "metadata": {
        "id": "QCWQ3fBV7Bu5",
        "outputId": "4af95db8-fd9b-4ed5-c909-e9afe0ce3689",
        "colab": {
          "base_uri": "https://localhost:8080/"
        }
      },
      "source": [
        "test_model_parameters(stride= (2,2),dropout = 0.8)\n",
        "test_model_parameters(stride= (2,2),dropout = 0.3)\n"
      ],
      "execution_count": null,
      "outputs": [
        {
          "output_type": "stream",
          "text": [
            "Epoch 1/5\n",
            "860/860 [==============================] - 13s 15ms/step - loss: 0.3117 - accuracy: 0.8654 - val_loss: 0.1974 - val_accuracy: 0.9192\n",
            "Epoch 2/5\n",
            "860/860 [==============================] - 13s 15ms/step - loss: 0.1700 - accuracy: 0.9377 - val_loss: 0.0809 - val_accuracy: 0.9720\n",
            "Epoch 3/5\n",
            "860/860 [==============================] - 13s 15ms/step - loss: 0.1462 - accuracy: 0.9476 - val_loss: 0.0728 - val_accuracy: 0.9742\n",
            "Epoch 4/5\n",
            "860/860 [==============================] - 12s 14ms/step - loss: 0.1366 - accuracy: 0.9517 - val_loss: 0.0687 - val_accuracy: 0.9771\n",
            "Epoch 5/5\n",
            "860/860 [==============================] - 13s 15ms/step - loss: 0.1359 - accuracy: 0.9523 - val_loss: 0.0973 - val_accuracy: 0.9672\n",
            "<tensorflow.python.keras.engine.sequential.Sequential object at 0x7f0bc39bec50>\n",
            "<tensorflow.python.keras.callbacks.History object at 0x7f0bc3baef98>\n",
            "Epoch 1/5\n",
            "860/860 [==============================] - 13s 15ms/step - loss: 0.1977 - accuracy: 0.9198 - val_loss: 0.2221 - val_accuracy: 0.9067\n",
            "Epoch 2/5\n",
            "860/860 [==============================] - 13s 15ms/step - loss: 0.0838 - accuracy: 0.9710 - val_loss: 0.0861 - val_accuracy: 0.9664\n",
            "Epoch 3/5\n",
            "860/860 [==============================] - 13s 15ms/step - loss: 0.0628 - accuracy: 0.9781 - val_loss: 0.0409 - val_accuracy: 0.9873\n",
            "Epoch 4/5\n",
            "860/860 [==============================] - 13s 15ms/step - loss: 0.0531 - accuracy: 0.9829 - val_loss: 0.0399 - val_accuracy: 0.9872\n",
            "Epoch 5/5\n",
            "860/860 [==============================] - 13s 15ms/step - loss: 0.0446 - accuracy: 0.9848 - val_loss: 0.0561 - val_accuracy: 0.9819\n",
            "<tensorflow.python.keras.engine.sequential.Sequential object at 0x7f0bc3da5198>\n",
            "<tensorflow.python.keras.callbacks.History object at 0x7f0bc385c828>\n"
          ],
          "name": "stdout"
        }
      ]
    },
    {
      "cell_type": "code",
      "metadata": {
        "id": "8RPgIIPN7WQX",
        "outputId": "93d00d9f-1b4e-47bf-bf75-61657a0f5373",
        "colab": {
          "base_uri": "https://localhost:8080/"
        }
      },
      "source": [
        "#Weight Initializer\n",
        "test_model_parameters(stride= (2,2),dropout = 0.3,kernel_init= \"he_uniform\")\n",
        "test_model_parameters(stride= (2,2),dropout = 0.3,kernel_init= \"glorot_uniform\")"
      ],
      "execution_count": null,
      "outputs": [
        {
          "output_type": "stream",
          "text": [
            "Epoch 1/5\n",
            "860/860 [==============================] - 14s 16ms/step - loss: 0.2062 - accuracy: 0.9135 - val_loss: 0.0689 - val_accuracy: 0.9765\n",
            "Epoch 2/5\n",
            "860/860 [==============================] - 14s 17ms/step - loss: 0.0828 - accuracy: 0.9699 - val_loss: 0.0481 - val_accuracy: 0.9835\n",
            "Epoch 3/5\n",
            "860/860 [==============================] - 13s 15ms/step - loss: 0.0635 - accuracy: 0.9782 - val_loss: 0.0508 - val_accuracy: 0.9816\n",
            "Epoch 4/5\n",
            "860/860 [==============================] - 13s 15ms/step - loss: 0.0531 - accuracy: 0.9816 - val_loss: 0.0365 - val_accuracy: 0.9862\n",
            "Epoch 5/5\n",
            "860/860 [==============================] - 13s 15ms/step - loss: 0.0481 - accuracy: 0.9837 - val_loss: 0.0365 - val_accuracy: 0.9869\n",
            "<tensorflow.python.keras.engine.sequential.Sequential object at 0x7f0bc368a8d0>\n",
            "<tensorflow.python.keras.callbacks.History object at 0x7f0bc363b7f0>\n",
            "Epoch 1/5\n",
            "860/860 [==============================] - 13s 15ms/step - loss: 0.1826 - accuracy: 0.9263 - val_loss: 0.1302 - val_accuracy: 0.9510\n",
            "Epoch 2/5\n",
            "860/860 [==============================] - 13s 15ms/step - loss: 0.0793 - accuracy: 0.9720 - val_loss: 0.0423 - val_accuracy: 0.9850\n",
            "Epoch 3/5\n",
            "860/860 [==============================] - 13s 15ms/step - loss: 0.0615 - accuracy: 0.9788 - val_loss: 0.0429 - val_accuracy: 0.9853\n",
            "Epoch 4/5\n",
            "860/860 [==============================] - 13s 15ms/step - loss: 0.0514 - accuracy: 0.9822 - val_loss: 0.0570 - val_accuracy: 0.9816\n",
            "Epoch 5/5\n",
            "860/860 [==============================] - 13s 15ms/step - loss: 0.0441 - accuracy: 0.9854 - val_loss: 0.0642 - val_accuracy: 0.9767\n",
            "<tensorflow.python.keras.engine.sequential.Sequential object at 0x7f0bc3642128>\n",
            "<tensorflow.python.keras.callbacks.History object at 0x7f0bbfc041d0>\n"
          ],
          "name": "stdout"
        }
      ]
    },
    {
      "cell_type": "code",
      "metadata": {
        "id": "o0lNULS47jgK",
        "outputId": "3934f346-153b-49fe-d50a-a582160287d3",
        "colab": {
          "base_uri": "https://localhost:8080/"
        }
      },
      "source": [
        "#Optimizers\n",
        "test_model_parameters(stride= (2,2),dropout = 0.3,kernel_init='glorot_uniform',optimizers=\"nadam\")\n",
        "test_model_parameters(stride= (2,2),dropout = 0.3,kernel_init='glorot_uniform',optimizers=\"rmsprop\")\n",
        "test_model_parameters(stride= (2,2),dropout = 0.3,kernel_init='glorot_uniform',optimizers=\"adam\")"
      ],
      "execution_count": null,
      "outputs": [
        {
          "output_type": "stream",
          "text": [
            "Epoch 1/5\n",
            "860/860 [==============================] - 13s 16ms/step - loss: 0.1608 - accuracy: 0.9357 - val_loss: 0.0567 - val_accuracy: 0.9809\n",
            "Epoch 2/5\n",
            "860/860 [==============================] - 13s 15ms/step - loss: 0.0692 - accuracy: 0.9761 - val_loss: 0.0652 - val_accuracy: 0.9771\n",
            "Epoch 3/5\n",
            "860/860 [==============================] - 13s 15ms/step - loss: 0.0543 - accuracy: 0.9807 - val_loss: 0.0348 - val_accuracy: 0.9889\n",
            "Epoch 4/5\n",
            "860/860 [==============================] - 13s 15ms/step - loss: 0.0456 - accuracy: 0.9841 - val_loss: 0.0319 - val_accuracy: 0.9886\n",
            "Epoch 5/5\n",
            "860/860 [==============================] - 14s 16ms/step - loss: 0.0379 - accuracy: 0.9874 - val_loss: 0.0341 - val_accuracy: 0.9880\n",
            "<tensorflow.python.keras.engine.sequential.Sequential object at 0x7f0bc3e43f60>\n",
            "<tensorflow.python.keras.callbacks.History object at 0x7f0bbfa5ca90>\n",
            "Epoch 1/5\n",
            "860/860 [==============================] - 14s 17ms/step - loss: 0.1905 - accuracy: 0.9241 - val_loss: 0.0881 - val_accuracy: 0.9684\n",
            "Epoch 2/5\n",
            "860/860 [==============================] - 13s 15ms/step - loss: 0.0825 - accuracy: 0.9704 - val_loss: 0.0462 - val_accuracy: 0.9846\n",
            "Epoch 3/5\n",
            "860/860 [==============================] - 13s 15ms/step - loss: 0.0605 - accuracy: 0.9795 - val_loss: 0.0380 - val_accuracy: 0.9873\n",
            "Epoch 4/5\n",
            "860/860 [==============================] - 13s 15ms/step - loss: 0.0508 - accuracy: 0.9827 - val_loss: 0.0466 - val_accuracy: 0.9847\n",
            "Epoch 5/5\n",
            "860/860 [==============================] - 13s 15ms/step - loss: 0.0451 - accuracy: 0.9847 - val_loss: 0.0342 - val_accuracy: 0.9897\n",
            "<tensorflow.python.keras.engine.sequential.Sequential object at 0x7f0bbfc049b0>\n",
            "<tensorflow.python.keras.callbacks.History object at 0x7f0bbf7e8d68>\n",
            "Epoch 1/5\n",
            "860/860 [==============================] - 13s 15ms/step - loss: 0.1638 - accuracy: 0.9356 - val_loss: 0.0597 - val_accuracy: 0.9796\n",
            "Epoch 2/5\n",
            "860/860 [==============================] - 17s 20ms/step - loss: 0.0716 - accuracy: 0.9745 - val_loss: 0.0446 - val_accuracy: 0.9860\n",
            "Epoch 3/5\n",
            "860/860 [==============================] - 13s 15ms/step - loss: 0.0566 - accuracy: 0.9797 - val_loss: 0.0365 - val_accuracy: 0.9874\n",
            "Epoch 4/5\n",
            "860/860 [==============================] - 13s 15ms/step - loss: 0.0484 - accuracy: 0.9835 - val_loss: 0.0338 - val_accuracy: 0.9892\n",
            "Epoch 5/5\n",
            "860/860 [==============================] - 13s 15ms/step - loss: 0.0416 - accuracy: 0.9859 - val_loss: 0.0295 - val_accuracy: 0.9903\n",
            "<tensorflow.python.keras.engine.sequential.Sequential object at 0x7f0bbfc04978>\n",
            "<tensorflow.python.keras.callbacks.History object at 0x7f0bc6b43da0>\n"
          ],
          "name": "stdout"
        }
      ]
    },
    {
      "cell_type": "code",
      "metadata": {
        "id": "E1RLdMJE8U5S",
        "outputId": "9370133d-2f60-46c0-d7a5-8b7471491042",
        "colab": {
          "base_uri": "https://localhost:8080/"
        }
      },
      "source": [
        "#Epochs\n",
        "test_model_parameters(stride= (2,2),dropout = 0.3,kernel_init='glorot_uniform',optimizers=\"rmsprop\",epoch=12)"
      ],
      "execution_count": null,
      "outputs": [
        {
          "output_type": "stream",
          "text": [
            "Epoch 1/12\n",
            "860/860 [==============================] - 13s 15ms/step - loss: 0.1800 - accuracy: 0.9283 - val_loss: 0.0628 - val_accuracy: 0.9788\n",
            "Epoch 2/12\n",
            "860/860 [==============================] - 13s 15ms/step - loss: 0.0790 - accuracy: 0.9729 - val_loss: 0.0524 - val_accuracy: 0.9828\n",
            "Epoch 3/12\n",
            "860/860 [==============================] - 13s 15ms/step - loss: 0.0615 - accuracy: 0.9792 - val_loss: 0.0599 - val_accuracy: 0.9798\n",
            "Epoch 4/12\n",
            "860/860 [==============================] - 13s 15ms/step - loss: 0.0514 - accuracy: 0.9821 - val_loss: 0.0351 - val_accuracy: 0.9879\n",
            "Epoch 5/12\n",
            "860/860 [==============================] - 13s 15ms/step - loss: 0.0443 - accuracy: 0.9851 - val_loss: 0.0382 - val_accuracy: 0.9865\n",
            "Epoch 6/12\n",
            "860/860 [==============================] - 13s 15ms/step - loss: 0.0418 - accuracy: 0.9860 - val_loss: 0.0302 - val_accuracy: 0.9895\n",
            "Epoch 7/12\n",
            "860/860 [==============================] - 12s 14ms/step - loss: 0.0370 - accuracy: 0.9880 - val_loss: 0.0371 - val_accuracy: 0.9883\n",
            "Epoch 8/12\n",
            "860/860 [==============================] - 12s 14ms/step - loss: 0.0358 - accuracy: 0.9881 - val_loss: 0.0313 - val_accuracy: 0.9897\n",
            "Epoch 9/12\n",
            "860/860 [==============================] - 12s 14ms/step - loss: 0.0335 - accuracy: 0.9891 - val_loss: 0.0324 - val_accuracy: 0.9901\n",
            "Epoch 10/12\n",
            "860/860 [==============================] - 13s 15ms/step - loss: 0.0341 - accuracy: 0.9890 - val_loss: 0.0620 - val_accuracy: 0.9811\n",
            "Epoch 11/12\n",
            "860/860 [==============================] - 13s 15ms/step - loss: 0.0335 - accuracy: 0.9888 - val_loss: 0.0300 - val_accuracy: 0.9900\n",
            "Epoch 12/12\n",
            "860/860 [==============================] - 12s 15ms/step - loss: 0.0323 - accuracy: 0.9898 - val_loss: 0.0360 - val_accuracy: 0.9885\n",
            "<tensorflow.python.keras.engine.sequential.Sequential object at 0x7f0bc36c1eb8>\n",
            "<tensorflow.python.keras.callbacks.History object at 0x7f0bc4dc76d8>\n"
          ],
          "name": "stdout"
        }
      ]
    },
    {
      "cell_type": "code",
      "metadata": {
        "id": "033P9Pp3Y4tV",
        "outputId": "8f877dd6-9327-40b5-f378-3af9554f9258",
        "colab": {
          "base_uri": "https://localhost:8080/"
        }
      },
      "source": [
        "enhanced_model = models.Sequential()\n",
        "\n",
        "enhanced_model.add(layers.Conv2D(64,(5,5),strides= (2,2), activation = 'relu',kernel_initializer= \"glorot_uniform\", \n",
        "                                  input_shape = (28,28,1)))\n",
        "enhanced_model.add(layers.MaxPooling2D((2,2)))\n",
        "enhanced_model.add(layers.Conv2D(128,(3,3),strides= (2,2), activation = 'relu',kernel_initializer= \"glorot_uniform\"))\n",
        "enhanced_model.add(layers.MaxPooling2D((2,2)))\n",
        "enhanced_model.add(layers.Dropout(0.3))\n",
        "enhanced_model.add(layers.Flatten())\n",
        "\n",
        "enhanced_model.add(layers.Dense(64,activation='relu'))\n",
        "enhanced_model.add(layers.Dense(2,activation='sigmoid'))\n",
        "\n",
        "enhanced_model.summary()\n",
        "\n",
        "enhanced_model.compile(optimizer='rmsprop', loss='categorical_crossentropy',metrics = [\"accuracy\"])\n",
        "enhanced_fit = enhanced_model.fit(x_train,target_train,epochs=10,batch_size=64,validation_data=(xval,target_val))\n"
      ],
      "execution_count": 71,
      "outputs": [
        {
          "output_type": "stream",
          "text": [
            "Model: \"sequential_16\"\n",
            "_________________________________________________________________\n",
            "Layer (type)                 Output Shape              Param #   \n",
            "=================================================================\n",
            "conv2d_33 (Conv2D)           (None, 12, 12, 64)        1664      \n",
            "_________________________________________________________________\n",
            "max_pooling2d_32 (MaxPooling (None, 6, 6, 64)          0         \n",
            "_________________________________________________________________\n",
            "conv2d_34 (Conv2D)           (None, 2, 2, 128)         73856     \n",
            "_________________________________________________________________\n",
            "max_pooling2d_33 (MaxPooling (None, 1, 1, 128)         0         \n",
            "_________________________________________________________________\n",
            "dropout_16 (Dropout)         (None, 1, 1, 128)         0         \n",
            "_________________________________________________________________\n",
            "flatten_16 (Flatten)         (None, 128)               0         \n",
            "_________________________________________________________________\n",
            "dense_32 (Dense)             (None, 64)                8256      \n",
            "_________________________________________________________________\n",
            "dense_33 (Dense)             (None, 2)                 130       \n",
            "=================================================================\n",
            "Total params: 83,906\n",
            "Trainable params: 83,906\n",
            "Non-trainable params: 0\n",
            "_________________________________________________________________\n",
            "Epoch 1/10\n",
            "860/860 [==============================] - 18s 20ms/step - loss: 0.1705 - accuracy: 0.9304 - val_loss: 0.0676 - val_accuracy: 0.9738\n",
            "Epoch 2/10\n",
            "860/860 [==============================] - 16s 19ms/step - loss: 0.0705 - accuracy: 0.9756 - val_loss: 0.0422 - val_accuracy: 0.9849\n",
            "Epoch 3/10\n",
            "860/860 [==============================] - 15s 17ms/step - loss: 0.0513 - accuracy: 0.9823 - val_loss: 0.0325 - val_accuracy: 0.9882\n",
            "Epoch 4/10\n",
            "860/860 [==============================] - 15s 17ms/step - loss: 0.0417 - accuracy: 0.9857 - val_loss: 0.0308 - val_accuracy: 0.9890\n",
            "Epoch 5/10\n",
            "860/860 [==============================] - 15s 17ms/step - loss: 0.0361 - accuracy: 0.9878 - val_loss: 0.0362 - val_accuracy: 0.9883\n",
            "Epoch 6/10\n",
            "860/860 [==============================] - 15s 17ms/step - loss: 0.0333 - accuracy: 0.9888 - val_loss: 0.0301 - val_accuracy: 0.9905\n",
            "Epoch 7/10\n",
            "860/860 [==============================] - 15s 17ms/step - loss: 0.0304 - accuracy: 0.9898 - val_loss: 0.0359 - val_accuracy: 0.9902\n",
            "Epoch 8/10\n",
            "860/860 [==============================] - 15s 18ms/step - loss: 0.0299 - accuracy: 0.9902 - val_loss: 0.0371 - val_accuracy: 0.9872\n",
            "Epoch 9/10\n",
            "860/860 [==============================] - 15s 17ms/step - loss: 0.0289 - accuracy: 0.9904 - val_loss: 0.0283 - val_accuracy: 0.9913\n",
            "Epoch 10/10\n",
            "860/860 [==============================] - 15s 17ms/step - loss: 0.0285 - accuracy: 0.9906 - val_loss: 0.0295 - val_accuracy: 0.9913\n"
          ],
          "name": "stdout"
        }
      ]
    },
    {
      "cell_type": "code",
      "metadata": {
        "id": "-JwdteDA8pnh",
        "outputId": "29758d30-c8e4-4c04-cd5a-b916a276d1cf",
        "colab": {
          "base_uri": "https://localhost:8080/"
        }
      },
      "source": [
        "#q2 d,e,f,g\n",
        "#Creating a final model and adding batch and layer normalization\n",
        "from keras.layers.normalization import BatchNormalization\n",
        "\n",
        "final = models.Sequential()\n",
        "\n",
        "final.add(layers.Conv2D(64,(5,5),strides= (2,2), activation = 'relu',kernel_initializer= \"glorot_uniform\", \n",
        "                                  input_shape = (28,28,1)))\n",
        "final.add(BatchNormalization())\n",
        "final.add(layers.MaxPooling2D((2,2)))\n",
        "final.add(layers.Conv2D(128,(3,3),strides= (2,2), activation = 'relu',kernel_initializer= \"glorot_uniform\"))\n",
        "final.add(layers.MaxPooling2D((2,2)))\n",
        "final.add(layers.Dropout(0.3))\n",
        "final.add(layers.Flatten())\n",
        "\n",
        "final.add(layers.Dense(64,activation='relu'))\n",
        "final.add(layers.Dense(2,activation='sigmoid'))\n",
        "\n",
        "final.summary()\n",
        "\n",
        "final.compile(optimizer='rmsprop', loss='categorical_crossentropy',metrics = [\"accuracy\"])\n",
        "model_fit3 = final.fit(x_train,target_train,epochs=10,batch_size=64,validation_data=(xval,target_val))\n"
      ],
      "execution_count": null,
      "outputs": [
        {
          "output_type": "stream",
          "text": [
            "Model: \"sequential_15\"\n",
            "_________________________________________________________________\n",
            "Layer (type)                 Output Shape              Param #   \n",
            "=================================================================\n",
            "conv2d_31 (Conv2D)           (None, 12, 12, 64)        1664      \n",
            "_________________________________________________________________\n",
            "batch_normalization_2 (Batch (None, 12, 12, 64)        256       \n",
            "_________________________________________________________________\n",
            "max_pooling2d_30 (MaxPooling (None, 6, 6, 64)          0         \n",
            "_________________________________________________________________\n",
            "conv2d_32 (Conv2D)           (None, 2, 2, 128)         73856     \n",
            "_________________________________________________________________\n",
            "max_pooling2d_31 (MaxPooling (None, 1, 1, 128)         0         \n",
            "_________________________________________________________________\n",
            "dropout_15 (Dropout)         (None, 1, 1, 128)         0         \n",
            "_________________________________________________________________\n",
            "flatten_15 (Flatten)         (None, 128)               0         \n",
            "_________________________________________________________________\n",
            "dense_30 (Dense)             (None, 64)                8256      \n",
            "_________________________________________________________________\n",
            "dense_31 (Dense)             (None, 2)                 130       \n",
            "=================================================================\n",
            "Total params: 84,162\n",
            "Trainable params: 84,034\n",
            "Non-trainable params: 128\n",
            "_________________________________________________________________\n",
            "Epoch 1/10\n",
            "860/860 [==============================] - 20s 23ms/step - loss: 0.1378 - accuracy: 0.9382 - val_loss: 0.0484 - val_accuracy: 0.9826\n",
            "Epoch 2/10\n",
            "860/860 [==============================] - 19s 23ms/step - loss: 0.0561 - accuracy: 0.9815 - val_loss: 0.0563 - val_accuracy: 0.9811\n",
            "Epoch 3/10\n",
            "860/860 [==============================] - 20s 23ms/step - loss: 0.0434 - accuracy: 0.9857 - val_loss: 0.0408 - val_accuracy: 0.9881\n",
            "Epoch 4/10\n",
            "860/860 [==============================] - 24s 27ms/step - loss: 0.0390 - accuracy: 0.9875 - val_loss: 0.0752 - val_accuracy: 0.9785\n",
            "Epoch 5/10\n",
            "860/860 [==============================] - 19s 23ms/step - loss: 0.0367 - accuracy: 0.9884 - val_loss: 0.0358 - val_accuracy: 0.9884\n",
            "Epoch 6/10\n",
            "860/860 [==============================] - 19s 23ms/step - loss: 0.0357 - accuracy: 0.9888 - val_loss: 0.0340 - val_accuracy: 0.9903\n",
            "Epoch 7/10\n",
            "860/860 [==============================] - 19s 22ms/step - loss: 0.0317 - accuracy: 0.9900 - val_loss: 0.0402 - val_accuracy: 0.9886\n",
            "Epoch 8/10\n",
            "860/860 [==============================] - 20s 23ms/step - loss: 0.0291 - accuracy: 0.9914 - val_loss: 0.0566 - val_accuracy: 0.9875\n",
            "Epoch 9/10\n",
            "860/860 [==============================] - 19s 23ms/step - loss: 0.0280 - accuracy: 0.9912 - val_loss: 0.0612 - val_accuracy: 0.9852\n",
            "Epoch 10/10\n",
            "860/860 [==============================] - 19s 23ms/step - loss: 0.0270 - accuracy: 0.9912 - val_loss: 0.0470 - val_accuracy: 0.9888\n"
          ],
          "name": "stdout"
        }
      ]
    },
    {
      "cell_type": "code",
      "metadata": {
        "id": "aoSB5Yx0-RX-",
        "outputId": "374baf08-04bd-4209-d7ad-607364fe940e",
        "colab": {
          "base_uri": "https://localhost:8080/",
          "height": 313
        }
      },
      "source": [
        "#Accuracy plot\n",
        "plt.plot(model_fit3.history['accuracy'])\n",
        "plt.plot(model_fit3.history['val_accuracy'])\n",
        "plt.title('Training and validtation Accuracy')\n",
        "plt.ylabel('Accuracy rate')\n",
        "plt.xlabel('No. of Epoch')\n",
        "plt.legend(['Train data', 'Validation data'])\n"
      ],
      "execution_count": null,
      "outputs": [
        {
          "output_type": "execute_result",
          "data": {
            "text/plain": [
              "<matplotlib.legend.Legend at 0x7f0bc3b4ec50>"
            ]
          },
          "metadata": {
            "tags": []
          },
          "execution_count": 35
        },
        {
          "output_type": "display_data",
          "data": {
            "image/png": "[encoded data removed]",
            "text/plain": [
              "<Figure size 432x288 with 1 Axes>"
            ]
          },
          "metadata": {
            "tags": [],
            "needs_background": "light"
          }
        }
      ]
    },
    {
      "cell_type": "code",
      "metadata": {
        "id": "HUElrgtCAJ9B",
        "outputId": "68fc0d78-296d-43b1-ccc3-948c5c424b3c",
        "colab": {
          "base_uri": "https://localhost:8080/",
          "height": 313
        }
      },
      "source": [
        "plt.plot(model_fit3.history['loss'])\n",
        "plt.plot(model_fit3.history['val_loss'])\n",
        "plt.title('Training and validtation loss')\n",
        "plt.ylabel('Loss rate')\n",
        "plt.xlabel('No. of Epoch')\n",
        "plt.legend(['Train data', 'Validation data'])"
      ],
      "execution_count": null,
      "outputs": [
        {
          "output_type": "execute_result",
          "data": {
            "text/plain": [
              "<matplotlib.legend.Legend at 0x7f0bc3ac8978>"
            ]
          },
          "metadata": {
            "tags": []
          },
          "execution_count": 36
        },
        {
          "output_type": "display_data",
          "data": {
            "image/png": "[encoded data removed]",
            "text/plain": [
              "<Figure size 432x288 with 1 Axes>"
            ]
          },
          "metadata": {
            "tags": [],
            "needs_background": "light"
          }
        }
      ]
    },
    {
      "cell_type": "code",
      "metadata": {
        "id": "KNL4DQvtATGG",
        "outputId": "6a5236a1-fb73-4701-a006-a3792703e425",
        "colab": {
          "resources": {
            "http://localhost:8080/nbextensions/google.colab/files.js": {
              "data": "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",
              "ok": true,
              "headers": [
                [
                  "content-type",
                  "application/javascript"
                ]
              ],
              "status": 200,
              "status_text": ""
            }
          },
          "base_uri": "https://localhost:8080/",
          "height": 73
        }
      },
      "source": [
        "#Q3 Inference:\n",
        "\n",
        "#Reference link: https://colab.research.google.com/notebooks/io.ipynb\n",
        "from google.colab import files\n",
        "digits_upload = files.upload()"
      ],
      "execution_count": 85,
      "outputs": [
        {
          "output_type": "display_data",
          "data": {
            "text/html": [
              "\n",
              "     <input type=\"file\" id=\"files-0c610d54-58be-4c0d-aa94-c00070ebc4b6\" name=\"files[]\" multiple disabled\n",
              "        style=\"border:none\" />\n",
              "     <output id=\"result-0c610d54-58be-4c0d-aa94-c00070ebc4b6\">\n",
              "      Upload widget is only available when the cell has been executed in the\n",
              "      current browser session. Please rerun this cell to enable.\n",
              "      </output>\n",
              "      <script src=\"/nbextensions/google.colab/files.js\"></script> "
            ],
            "text/plain": [
              "<IPython.core.display.HTML object>"
            ]
          },
          "metadata": {
            "tags": []
          }
        },
        {
          "output_type": "stream",
          "text": [
            "Saving WhatsApp Image 2020-11-11 at 9.20.24 PM.jpeg to WhatsApp Image 2020-11-11 at 9.20.24 PM.jpeg\n"
          ],
          "name": "stdout"
        }
      ]
    },
    {
      "cell_type": "code",
      "metadata": {
        "id": "kDiVaUrQRhVm"
      },
      "source": [
        "import cv2\n",
        "\n",
        "def data_procession_and_prediction(img):\n",
        "  # Resize the image \n",
        "  dim = (int(28), int(28))\n",
        "  resized = cv2.resize(img, dim)\n",
        "\n",
        "  #Convert to grayscale\n",
        "  resize_gray_img = cv2.cvtColor(cv2.resize(img,(int(28),int(28))),cv2.COLOR_BGR2GRAY)\n",
        "\n",
        "  gray_img = resize_gray_img.astype('float32') / 255\n",
        "\n",
        "  # Convert to binary\n",
        "  (threshold_,binary_img) = cv2.threshold(gray_img, 0.5, 1, cv2.THRESH_BINARY)\n",
        "  binary_img  = np.where(binary_img == 0, 1, 0)\n",
        "  \n",
        "  label = (enhanced_model.predict(binary_img.reshape((1,28, 28, 1)))).argmax(axis=-1)\n",
        "\n",
        "  result = \"Image is even numbered \" if label == 0 else \"Image is odd numbered\" \n",
        "  print(result)\n",
        "\n",
        "  #Display binary image and original image in two separate windows\n",
        "  plt.imshow(binary_img,cmap='gray')\n",
        "  plt.title(\"Binary Image\")\n",
        "  plt.show()\n",
        "\n",
        "  plt.imshow(img)\n",
        "  plt.title(\"Original Image\")\n",
        "  plt.show()\n",
        "\n",
        "\n"
      ],
      "execution_count": 91,
      "outputs": []
    },
    {
      "cell_type": "code",
      "metadata": {
        "id": "flMePuCvdQgP",
        "outputId": "96a7a703-7e94-4f96-9908-324e672bd453",
        "colab": {
          "base_uri": "https://localhost:8080/",
          "height": 563
        }
      },
      "source": [
        "three = cv2.imread(\"WhatsApp Image 2020-11-11 at 9.20.24 PM.jpeg\")\n",
        "\n",
        "data_procession_and_prediction(three)"
      ],
      "execution_count": 92,
      "outputs": [
        {
          "output_type": "stream",
          "text": [
            "Image is odd numbered\n"
          ],
          "name": "stdout"
        },
        {
          "output_type": "display_data",
          "data": {
            "image/png": "[encoded data removed]",
            "text/plain": [
              "<Figure size 432x288 with 1 Axes>"
            ]
          },
          "metadata": {
            "tags": [],
            "needs_background": "light"
          }
        },
        {
          "output_type": "display_data",
          "data": {
            "image/png": "[encoded data removed]",
            "text/plain": [
              "<Figure size 432x288 with 1 Axes>"
            ]
          },
          "metadata": {
            "tags": [],
            "needs_background": "light"
          }
        }
      ]
    }
  ]
}
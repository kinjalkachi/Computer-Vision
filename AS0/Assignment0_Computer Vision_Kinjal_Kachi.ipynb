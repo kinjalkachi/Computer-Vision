{
 "cells": [
  {
   "cell_type": "markdown",
   "metadata": {},
   "source": [
    "# Assignment 0 \n",
    "Name - Kinjal Kachi\n",
    "Anumber - A20449343 "
   ]
  },
  {
   "cell_type": "code",
   "execution_count": 1,
   "metadata": {},
   "outputs": [],
   "source": [
    "#Import all libraries used:\n",
    "import numpy as np\n",
    "from numpy import linalg as LA\n",
    "import pandas as pd"
   ]
  },
  {
   "cell_type": "raw",
   "metadata": {},
   "source": [
    "#QA solved as follows:  "
   ]
  },
  {
   "cell_type": "code",
   "execution_count": 2,
   "metadata": {},
   "outputs": [],
   "source": [
    "#Define values:\n",
    "\n",
    "A = np.array([[1], [2], [3]])\n",
    "B = np.array([[4],[5],[6]])\n",
    "C = np.array([[-1],[1],[3]])"
   ]
  },
  {
   "cell_type": "code",
   "execution_count": 6,
   "metadata": {},
   "outputs": [
    {
     "name": "stdout",
     "output_type": "stream",
     "text": [
      "2A-B: \n",
      " [[-2]\n",
      " [-1]\n",
      " [ 0]]\n"
     ]
    }
   ],
   "source": [
    "#A.1)\n",
    "a1 = 2*A - B\n",
    "print(\"2A-B: \\n\",a1)"
   ]
  },
  {
   "cell_type": "code",
   "execution_count": 9,
   "metadata": {},
   "outputs": [
    {
     "name": "stdout",
     "output_type": "stream",
     "text": [
      "||A|| = \n",
      " [[1]\n",
      " [2]\n",
      " [3]]\n",
      "Angle of A relative to positive X-axis =  [74.49864043]\n"
     ]
    }
   ],
   "source": [
    "#A.2) \n",
    "a = LA.norm(A)\n",
    "angle = np.arccos(A[0]/a)\n",
    "\n",
    "print ('||A|| = \\n', A)\n",
    "print ('Angle of A relative to positive X-axis = ', np.degrees(angle))"
   ]
  },
  {
   "cell_type": "code",
   "execution_count": 12,
   "metadata": {},
   "outputs": [
    {
     "name": "stdout",
     "output_type": "stream",
     "text": [
      "the unit vector in the direction of A :\n",
      " [[0.26726124]\n",
      " [0.53452248]\n",
      " [0.80178373]]\n"
     ]
    }
   ],
   "source": [
    "#A.3\n",
    "print(\"The unit vector in the direction of A :\\n\", A/np.sqrt(14))"
   ]
  },
  {
   "cell_type": "code",
   "execution_count": 15,
   "metadata": {},
   "outputs": [
    {
     "name": "stdout",
     "output_type": "stream",
     "text": [
      "The direction cosines of A :\n",
      "\n",
      "cos alpha:  [1.30024656]\n",
      "cos beta:  [1.00685369]\n",
      "cos gamma:  [0.64052231]\n"
     ]
    }
   ],
   "source": [
    "#A.4\n",
    "print(\"The direction cosines of A :\\n\")\n",
    "print(\"cos alpha: \", np.arccos((A[0]/np.sqrt(14))))\n",
    "print(\"cos beta: \", np.arccos((A[1]/np.sqrt(14))))\n",
    "print(\"cos gamma: \", np.arccos((A[2]/np.sqrt(14))))"
   ]
  },
  {
   "cell_type": "code",
   "execution_count": 16,
   "metadata": {},
   "outputs": [
    {
     "name": "stdout",
     "output_type": "stream",
     "text": [
      "A.B [[32]]\n",
      "B.A [[32]]\n"
     ]
    }
   ],
   "source": [
    "#A.5\n",
    "print(\"A.B\",np.dot(A.T,B))\n",
    "print(\"B.A\",np.dot(B.T,A))"
   ]
  },
  {
   "cell_type": "code",
   "execution_count": 23,
   "metadata": {},
   "outputs": [
    {
     "name": "stdout",
     "output_type": "stream",
     "text": [
      "Angle between A and B =  [[65.44387469]]\n"
     ]
    }
   ],
   "source": [
    "# A.6\n",
    "\n",
    "b = LA.norm(B)\n",
    "a = LA.norm(B)\n",
    "val_a = A/a\n",
    "val_b = B/b\n",
    "angle = np.arccos(np.dot((val_a).reshape(1, 3), val_b))\n",
    "print ('Angle between A and B = ', np.degrees(angle))"
   ]
  },
  {
   "cell_type": "code",
   "execution_count": 24,
   "metadata": {},
   "outputs": [
    {
     "name": "stdout",
     "output_type": "stream",
     "text": [
      "Possible vectors perpendicular to A and B\n",
      "2,2,-2\n",
      "-1,-4,3\n"
     ]
    }
   ],
   "source": [
    "# A.7\n",
    "print(\"Possible vectors perpendicular to A and B\")\n",
    "print(\"2,2,-2\")\n",
    "print(\"-1,-4,3\")"
   ]
  },
  {
   "cell_type": "code",
   "execution_count": 27,
   "metadata": {},
   "outputs": [
    {
     "name": "stdout",
     "output_type": "stream",
     "text": [
      "AXB:  [[-3  6 -3]]\n",
      "BXA:  [[ 3 -6  3]]\n"
     ]
    }
   ],
   "source": [
    "#A.8\n",
    "reshaped_A = A.reshape(1,3)\n",
    "reshaped_B = B.reshape(1,3)\n",
    "print(\"AXB: \", np.cross(reshaped_A, reshaped_B))\n",
    "print(\"BXA: \", np.cross(reshaped_B, reshaped_A))"
   ]
  },
  {
   "cell_type": "code",
   "execution_count": 28,
   "metadata": {},
   "outputs": [
    {
     "name": "stdout",
     "output_type": "stream",
     "text": [
      "Vector which is Perpendicular to both A and B is = [[-3  6 -3]]\n",
      "Dot product is zero\n"
     ]
    }
   ],
   "source": [
    "#A.9\n",
    "print(\"Vector which is Perpendicular to both A and B is = [[-3  6 -3]]\")\n",
    "print(\"Dot product is zero\")"
   ]
  },
  {
   "cell_type": "code",
   "execution_count": 31,
   "metadata": {},
   "outputs": [
    {
     "name": "stdout",
     "output_type": "stream",
     "text": [
      "transpose(A)B:  [[32]]\n",
      "transpose(B)A: \n",
      " [[ 4  5  6]\n",
      " [ 8 10 12]\n",
      " [12 15 18]]\n"
     ]
    }
   ],
   "source": [
    "#A.11\n",
    "transposed_reshaped_A = A.reshape(3,1).transpose()\n",
    "transposed_reshaped_B = B.reshape(3,1).transpose()\n",
    "print(\"transpose(A)B: \", np.dot(transposed_reshaped_A, B.reshape(3,1)))\n",
    "print(\"transpose(B)A: \\n\", np.dot(A.reshape(3,1), transposed_reshaped_B))"
   ]
  },
  {
   "cell_type": "raw",
   "metadata": {},
   "source": [
    "#QB solved as follows:  "
   ]
  },
  {
   "cell_type": "code",
   "execution_count": 32,
   "metadata": {},
   "outputs": [],
   "source": [
    "#Define values\n",
    "\n",
    "A = np.matrix([[1,2,3], [4,-2,3], [0,5,-1]])\n",
    "B = np.matrix([[1,2,1], [2,1,-4], [3,-2,1]])\n",
    "C = np.matrix([[1,2,3], [4,5,6], [-1,1,3]])"
   ]
  },
  {
   "cell_type": "code",
   "execution_count": 36,
   "metadata": {},
   "outputs": [
    {
     "name": "stdout",
     "output_type": "stream",
     "text": [
      "2A-B: \n",
      " [[ 1  2  5]\n",
      " [ 6 -5 10]\n",
      " [-3 12 -3]]\n"
     ]
    }
   ],
   "source": [
    "#B.1)\n",
    "b1 = 2*A - B\n",
    "print (\"2A-B: \\n\",b1)"
   ]
  },
  {
   "cell_type": "code",
   "execution_count": 38,
   "metadata": {},
   "outputs": [
    {
     "name": "stdout",
     "output_type": "stream",
     "text": [
      "A.B : \n",
      " [[ 14  -2  -4]\n",
      " [  9   0  15]\n",
      " [  7   7 -21]]\n",
      "A.B : \n",
      " [[  9   3   8]\n",
      " [  6 -18  13]\n",
      " [ -5  15   2]]\n"
     ]
    }
   ],
   "source": [
    "#B.2)\n",
    "print (\"A.B : \\n\", np.dot(A,B))\n",
    "print (\"A.B : \\n\", np.dot(B,A))"
   ]
  },
  {
   "cell_type": "code",
   "execution_count": 40,
   "metadata": {},
   "outputs": [
    {
     "name": "stdout",
     "output_type": "stream",
     "text": [
      "transpose(AB) \n",
      " [[ 14   9   7]\n",
      " [ -2   0   7]\n",
      " [ -4  15 -21]]\n",
      "transpose(B).transpose(A)\n",
      " [[ 14   9   7]\n",
      " [ -2   0   7]\n",
      " [ -4  15 -21]]\n"
     ]
    }
   ],
   "source": [
    "#B.3)\n",
    "A.B = np.dot(A,B)\n",
    "print ('transpose(AB) \\n', A.B.transpose())\n",
    "print ('transpose(B).transpose(A)\\n', np.dot(B.transpose(),A.transpose()))"
   ]
  },
  {
   "cell_type": "code",
   "execution_count": 41,
   "metadata": {},
   "outputs": [
    {
     "name": "stdout",
     "output_type": "stream",
     "text": [
      "|A| =  54.999999999999964\n",
      "|C| =  7.494005416219837e-16\n"
     ]
    }
   ],
   "source": [
    "#B.4)\n",
    "print ('|A| = ', LA.det(A))\n",
    "print ('|C| = ', LA.det(C))"
   ]
  },
  {
   "cell_type": "code",
   "execution_count": 44,
   "metadata": {},
   "outputs": [
    {
     "name": "stdout",
     "output_type": "stream",
     "text": [
      "B forms an orthogonal set:\n",
      "B1 B2 =  [[0]]\n",
      "B2 B3 =  [[0]]\n",
      "B3 B1 =  [[0]]\n"
     ]
    }
   ],
   "source": [
    "#B.5\n",
    "print(\"B forms an orthogonal set:\")\n",
    "reshaped_B0 = B[0].reshape(3,1)\n",
    "reshaped_B1 = B[1].reshape(3,1)\n",
    "reshaped_B2 = B[2].reshape(3,1)\n",
    "print ('B1 B2 = ', np.dot(B[1],reshaped_B0))\n",
    "print ('B2 B3 = ', np.dot(B[2],reshaped_B1))\n",
    "print ('B3 B1 = ', np.dot(B[0],reshaped_B2))\n"
   ]
  },
  {
   "cell_type": "code",
   "execution_count": 45,
   "metadata": {},
   "outputs": [
    {
     "name": "stdout",
     "output_type": "stream",
     "text": [
      "A Inverse : \n",
      " [[-0.23636364  0.30909091  0.21818182]\n",
      " [ 0.07272727 -0.01818182  0.16363636]\n",
      " [ 0.36363636 -0.09090909 -0.18181818]]\n",
      "B Inverse : \n",
      " [[ 0.16666667  0.0952381   0.21428571]\n",
      " [ 0.33333333  0.04761905 -0.14285714]\n",
      " [ 0.16666667 -0.19047619  0.07142857]]\n"
     ]
    }
   ],
   "source": [
    "#B.6\n",
    "\n",
    "print ('A Inverse : \\n', LA.inv(A))\n",
    "print ('B Inverse : \\n', LA.inv(B))"
   ]
  },
  {
   "cell_type": "raw",
   "metadata": {},
   "source": [
    "#QC solved as follows:  "
   ]
  },
  {
   "cell_type": "code",
   "execution_count": 46,
   "metadata": {},
   "outputs": [],
   "source": [
    "#Define Values:\n",
    "A = np.array([[1,2], [3,2]])\n",
    "B = np.array([[2,-2], [-2,5]])"
   ]
  },
  {
   "cell_type": "code",
   "execution_count": 48,
   "metadata": {},
   "outputs": [
    {
     "name": "stdout",
     "output_type": "stream",
     "text": [
      "Eigenvalues of A   [-1.  4.]\n",
      "Eigenvectors of A  \n",
      " [[-0.70710678 -0.5547002 ]\n",
      " [ 0.70710678 -0.83205029]]\n"
     ]
    }
   ],
   "source": [
    "#C.1\n",
    "\n",
    "print (\"Eigenvalues of A  \", LA.eig(A)[0])\n",
    "print (\"Eigenvectors of A  \\n\", LA.eig(A)[1])"
   ]
  },
  {
   "cell_type": "code",
   "execution_count": 52,
   "metadata": {},
   "outputs": [
    {
     "name": "stdout",
     "output_type": "stream",
     "text": [
      "V is eigenvector of A: \n",
      " [[-0.70710678 -0.5547002 ]\n",
      " [ 0.70710678 -0.83205029]]\n",
      "inv(V)AV: \n",
      " [[-1.0000000e+00 -4.4408921e-16]\n",
      " [ 0.0000000e+00  4.0000000e+00]]\n"
     ]
    }
   ],
   "source": [
    "#C.2 \n",
    "print(\"V is eigenvector of A: \\n\", LA.eig(A)[1])\n",
    "V = LA.eig(A)[1]\n",
    "print(\"inv(V)AV: \\n\", np.dot(np.dot(LA.inv(V),A),V))"
   ]
  },
  {
   "cell_type": "code",
   "execution_count": 53,
   "metadata": {},
   "outputs": [
    {
     "name": "stdout",
     "output_type": "stream",
     "text": [
      "Dot product between eigenvectors of A:  [-0.19611614]\n"
     ]
    }
   ],
   "source": [
    "#C.3\n",
    "print(\"Dot product between eigenvectors of A: \", np.dot(V[:,0].reshape(1,2),V[:,1]))"
   ]
  },
  {
   "cell_type": "code",
   "execution_count": 54,
   "metadata": {},
   "outputs": [
    {
     "name": "stdout",
     "output_type": "stream",
     "text": [
      "Dot product between eigenvectors of VB:  [0.]\n"
     ]
    }
   ],
   "source": [
    "#C.4 \n",
    "VB = LA.eig(B)[1]\n",
    "print(\"Dot product between eigenvectors of VB: \", np.dot(VB[:,0].reshape(1,2),VB[:,1]))"
   ]
  },
  {
   "cell_type": "code",
   "execution_count": 55,
   "metadata": {},
   "outputs": [
    {
     "name": "stdout",
     "output_type": "stream",
     "text": [
      "The eigenvectors of B are perpendicular becuase their dot product is zero.\n"
     ]
    }
   ],
   "source": [
    "#C.5\n",
    "print(\"The eigenvectors of B are perpendicular becuase their dot product is zero.\")"
   ]
  },
  {
   "cell_type": "code",
   "execution_count": null,
   "metadata": {},
   "outputs": [],
   "source": []
  }
 ],
 "metadata": {
  "kernelspec": {
   "display_name": "Python 3",
   "language": "python",
   "name": "python3"
  },
  "language_info": {
   "codemirror_mode": {
    "name": "ipython",
    "version": 3
   },
   "file_extension": ".py",
   "mimetype": "text/x-python",
   "name": "python",
   "nbconvert_exporter": "python",
   "pygments_lexer": "ipython3",
   "version": "3.7.3"
  }
 },
 "nbformat": 4,
 "nbformat_minor": 2
}
